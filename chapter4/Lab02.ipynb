{
 "cells": [
  {
   "cell_type": "code",
   "execution_count": 1,
   "metadata": {},
   "outputs": [],
   "source": [
    "import numpy as np\n",
    "import statsmodels.formula.api as smf\n",
    "import pandas as pd"
   ]
  },
  {
   "cell_type": "code",
   "execution_count": 2,
   "metadata": {},
   "outputs": [
    {
     "data": {
      "text/html": [
       "<div>\n",
       "<style scoped>\n",
       "    .dataframe tbody tr th:only-of-type {\n",
       "        vertical-align: middle;\n",
       "    }\n",
       "\n",
       "    .dataframe tbody tr th {\n",
       "        vertical-align: top;\n",
       "    }\n",
       "\n",
       "    .dataframe thead th {\n",
       "        text-align: right;\n",
       "    }\n",
       "</style>\n",
       "<table border=\"1\" class=\"dataframe\">\n",
       "  <thead>\n",
       "    <tr style=\"text-align: right;\">\n",
       "      <th></th>\n",
       "      <th>logwage</th>\n",
       "      <th>educ</th>\n",
       "      <th>exper</th>\n",
       "      <th>fe</th>\n",
       "      <th>married</th>\n",
       "      <th>age</th>\n",
       "      <th>south</th>\n",
       "      <th>nonwh</th>\n",
       "      <th>hisp</th>\n",
       "      <th>union</th>\n",
       "    </tr>\n",
       "  </thead>\n",
       "  <tbody>\n",
       "    <tr>\n",
       "      <th>0</th>\n",
       "      <td>2.1972</td>\n",
       "      <td>10</td>\n",
       "      <td>27</td>\n",
       "      <td>0</td>\n",
       "      <td>1</td>\n",
       "      <td>43</td>\n",
       "      <td>0</td>\n",
       "      <td>0</td>\n",
       "      <td>0</td>\n",
       "      <td>0</td>\n",
       "    </tr>\n",
       "    <tr>\n",
       "      <th>1</th>\n",
       "      <td>1.7047</td>\n",
       "      <td>12</td>\n",
       "      <td>20</td>\n",
       "      <td>0</td>\n",
       "      <td>1</td>\n",
       "      <td>38</td>\n",
       "      <td>0</td>\n",
       "      <td>0</td>\n",
       "      <td>0</td>\n",
       "      <td>0</td>\n",
       "    </tr>\n",
       "    <tr>\n",
       "      <th>2</th>\n",
       "      <td>1.3350</td>\n",
       "      <td>12</td>\n",
       "      <td>4</td>\n",
       "      <td>1</td>\n",
       "      <td>0</td>\n",
       "      <td>22</td>\n",
       "      <td>0</td>\n",
       "      <td>0</td>\n",
       "      <td>0</td>\n",
       "      <td>0</td>\n",
       "    </tr>\n",
       "    <tr>\n",
       "      <th>3</th>\n",
       "      <td>2.3514</td>\n",
       "      <td>12</td>\n",
       "      <td>29</td>\n",
       "      <td>1</td>\n",
       "      <td>1</td>\n",
       "      <td>47</td>\n",
       "      <td>0</td>\n",
       "      <td>0</td>\n",
       "      <td>0</td>\n",
       "      <td>0</td>\n",
       "    </tr>\n",
       "    <tr>\n",
       "      <th>4</th>\n",
       "      <td>2.7080</td>\n",
       "      <td>12</td>\n",
       "      <td>40</td>\n",
       "      <td>0</td>\n",
       "      <td>1</td>\n",
       "      <td>58</td>\n",
       "      <td>0</td>\n",
       "      <td>0</td>\n",
       "      <td>0</td>\n",
       "      <td>1</td>\n",
       "    </tr>\n",
       "  </tbody>\n",
       "</table>\n",
       "</div>"
      ],
      "text/plain": [
       "   logwage  educ  exper  fe  married  age  south  nonwh  hisp  union\n",
       "0   2.1972    10     27   0        1   43      0      0     0      0\n",
       "1   1.7047    12     20   0        1   38      0      0     0      0\n",
       "2   1.3350    12      4   1        0   22      0      0     0      0\n",
       "3   2.3514    12     29   1        1   47      0      0     0      0\n",
       "4   2.7080    12     40   0        1   58      0      0     0      1"
      ]
     },
     "execution_count": 2,
     "metadata": {},
     "output_type": "execute_result"
    }
   ],
   "source": [
    "cps85 = pd.read_csv(\"CPS85.txt\")\n",
    "cps85.head()"
   ]
  },
  {
   "cell_type": "code",
   "execution_count": 3,
   "metadata": {},
   "outputs": [
    {
     "name": "stdout",
     "output_type": "stream",
     "text": [
      "   exper  exper2\n",
      "0     27     729\n",
      "1     20     400\n",
      "2      4      16\n",
      "3     29     841\n",
      "4     40    1600\n"
     ]
    }
   ],
   "source": [
    "cps85['exper2'] = cps85['exper'] ** 2\n",
    "print(cps85[['exper', 'exper2']].head())"
   ]
  },
  {
   "cell_type": "code",
   "execution_count": 4,
   "metadata": {},
   "outputs": [],
   "source": [
    "cps85['fe'] = cps85['fe'].astype('category')\n",
    "cps85['married'] = cps85['married'].astype('category')"
   ]
  },
  {
   "cell_type": "code",
   "execution_count": 5,
   "metadata": {},
   "outputs": [],
   "source": [
    "formula = 'logwage ~ educ + exper + exper2 + fe + married + fe:married'"
   ]
  },
  {
   "cell_type": "code",
   "execution_count": 6,
   "metadata": {},
   "outputs": [
    {
     "name": "stdout",
     "output_type": "stream",
     "text": [
      "\n",
      "Regression Model Summary:\n",
      "                            OLS Regression Results                            \n",
      "==============================================================================\n",
      "Dep. Variable:                logwage   R-squared:                       0.337\n",
      "Model:                            OLS   Adj. R-squared:                  0.329\n",
      "Method:                 Least Squares   F-statistic:                     44.37\n",
      "Date:                Tue, 15 Oct 2024   Prob (F-statistic):           7.23e-44\n",
      "Time:                        10:34:22   Log-Likelihood:                -291.66\n",
      "No. Observations:                 531   AIC:                             597.3\n",
      "Df Residuals:                     524   BIC:                             627.2\n",
      "Df Model:                           6                                         \n",
      "Covariance Type:            nonrobust                                         \n",
      "========================================================================================\n",
      "                           coef    std err          t      P>|t|      [0.025      0.975]\n",
      "----------------------------------------------------------------------------------------\n",
      "Intercept                0.5422      0.117      4.647      0.000       0.313       0.771\n",
      "fe[T.1]                 -0.1547      0.064     -2.430      0.015      -0.280      -0.030\n",
      "married[T.1]             0.1466      0.055      2.651      0.008       0.038       0.255\n",
      "fe[T.1]:married[T.1]    -0.1801      0.078     -2.302      0.022      -0.334      -0.026\n",
      "educ                     0.0889      0.008     11.403      0.000       0.074       0.104\n",
      "exper                    0.0370      0.005      6.802      0.000       0.026       0.048\n",
      "exper2                  -0.0006      0.000     -4.892      0.000      -0.001      -0.000\n",
      "==============================================================================\n",
      "Omnibus:                        0.613   Durbin-Watson:                   1.861\n",
      "Prob(Omnibus):                  0.736   Jarque-Bera (JB):                0.691\n",
      "Skew:                          -0.076   Prob(JB):                        0.708\n",
      "Kurtosis:                       2.911   Cond. No.                     4.86e+03\n",
      "==============================================================================\n",
      "\n",
      "Notes:\n",
      "[1] Standard Errors assume that the covariance matrix of the errors is correctly specified.\n",
      "[2] The condition number is large, 4.86e+03. This might indicate that there are\n",
      "strong multicollinearity or other numerical problems.\n"
     ]
    }
   ],
   "source": [
    "model1 = smf.ols(formula=formula, data=cps85).fit()\n",
    "print(\"\\nRegression Model Summary:\")\n",
    "print(model1.summary())"
   ]
  },
  {
   "cell_type": "markdown",
   "metadata": {},
   "source": [
    "## OLS replication using MATH"
   ]
  },
  {
   "cell_type": "code",
   "execution_count": 7,
   "metadata": {},
   "outputs": [],
   "source": [
    "N = len(cps85['logwage'])\n",
    "intercept = np.ones((N, 1))\n",
    "\n",
    "educ = cps85['educ'].values.reshape(N, 1)       \n",
    "exper = cps85['exper'].values.reshape(N, 1)      \n",
    "exper2 = cps85['exper2'].values.reshape(N, 1)\n",
    "\n",
    "fe = cps85['fe'].astype('category').cat.codes.values.reshape(N, 1)\n",
    "married = cps85['married'].astype('category').cat.codes.values.reshape(N, 1)\n",
    "fe_married = fe * married"
   ]
  },
  {
   "cell_type": "code",
   "execution_count": 8,
   "metadata": {},
   "outputs": [],
   "source": [
    "X = np.hstack((intercept, educ, exper, exper2, fe, married, fe_married))\n",
    "y = cps85['logwage'].values.reshape(N, 1)\n",
    "K = X.shape[1]"
   ]
  },
  {
   "cell_type": "code",
   "execution_count": 10,
   "metadata": {},
   "outputs": [
    {
     "name": "stdout",
     "output_type": "stream",
     "text": [
      "[1.20821680e-02 8.07724694e-04 5.62838530e-04 1.21596008e-05\n",
      " 6.59380253e-03 5.72754774e-03 8.10339079e-03]\n"
     ]
    }
   ],
   "source": [
    "beta_hat = np.linalg.inv(X.T @ X) @ X.T @ y\n",
    "u_hat = y - X @ beta_hat\n",
    "sig2_hat = ( 1/(N-K) ) * np.sum(u_hat ** 2);\n",
    "v_hat = (1 / (N - K)) * np.linalg.inv (1/N * X.T @ X)\n",
    "v_hat_ols = 1/N * v_hat\n",
    "se_OLS = np.sqrt(np.diag(v_hat_ols))\n",
    "print(se_OLS)"
   ]
  },
  {
   "cell_type": "code",
   "execution_count": null,
   "metadata": {},
   "outputs": [],
   "source": []
  }
 ],
 "metadata": {
  "kernelspec": {
   "display_name": "base",
   "language": "python",
   "name": "python3"
  },
  "language_info": {
   "codemirror_mode": {
    "name": "ipython",
    "version": 3
   },
   "file_extension": ".py",
   "mimetype": "text/x-python",
   "name": "python",
   "nbconvert_exporter": "python",
   "pygments_lexer": "ipython3",
   "version": "3.12.4"
  }
 },
 "nbformat": 4,
 "nbformat_minor": 2
}
