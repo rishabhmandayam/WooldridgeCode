{
 "cells": [
  {
   "cell_type": "code",
   "execution_count": 1,
   "id": "568f2826-4f56-4df7-b814-75d52c6f5315",
   "metadata": {},
   "outputs": [],
   "source": [
    "import numpy as np\n",
    "from scipy.stats import t"
   ]
  },
  {
   "cell_type": "code",
   "execution_count": 2,
   "id": "ae372b6c-989a-4c73-abe1-a4cd3d6634d2",
   "metadata": {},
   "outputs": [],
   "source": [
    "seed = 1\n",
    "np.random.seed(seed)"
   ]
  },
  {
   "cell_type": "code",
   "execution_count": 3,
   "id": "c1f1e85a-346c-4c64-866f-43db70795db3",
   "metadata": {},
   "outputs": [],
   "source": [
    "def generate_data(N = 20):\n",
    "    beta0 = 1\n",
    "    beta1 = 1\n",
    "    beta2 = 0.2\n",
    "    \n",
    "    e = t.rvs(df=10, size=N)\n",
    "    x = np.random.normal(loc=1, scale=np.sqrt(4), size=N)\n",
    "    y = beta0 + beta1 * x + beta2 * x**2 + e\n",
    "\n",
    "    mat_data = np.column_stack((y, x))\n",
    "    \n",
    "    return mat_data"
   ]
  },
  {
   "cell_type": "code",
   "execution_count": 4,
   "id": "89c21a49-812a-4f95-8fda-a0a6145199a8",
   "metadata": {},
   "outputs": [],
   "source": [
    "N = 20\n",
    "data_one = generate_data(N)"
   ]
  },
  {
   "cell_type": "code",
   "execution_count": 5,
   "id": "973ae3bb-9fa8-485a-bc78-0b4bd44824ac",
   "metadata": {},
   "outputs": [
    {
     "name": "stdout",
     "output_type": "stream",
     "text": [
      "[[ 5.06353739  1.60034064]\n",
      " [ 0.38824633  0.29550031]\n",
      " [-0.67201546 -1.2850364 ]\n",
      " [-0.6008343   0.30131456]\n",
      " [ 2.00026284  0.58221153]\n",
      " [ 3.49851281  2.17324638]\n",
      " [ 4.74650826  2.67796683]\n",
      " [ 6.19540862  2.86220416]\n",
      " [ 2.84286364  1.57117465]\n",
      " [ 7.1436259   2.77028233]\n",
      " [ 1.37731869 -0.50879588]\n",
      " [ 6.24867135  3.50573631]\n",
      " [ 3.68595479  2.02585964]\n",
      " [ 0.0512641   0.40381433]\n",
      " [ 2.88160489  1.97703629]\n",
      " [ 2.11719023  0.84885657]\n",
      " [ 7.85324899  3.26325877]\n",
      " [10.40823318  4.03963363]\n",
      " [12.20242329  5.37115081]\n",
      " [ 0.55361124 -1.79299267]]\n"
     ]
    }
   ],
   "source": [
    "print(data_one)"
   ]
  },
  {
   "cell_type": "code",
   "execution_count": 6,
   "id": "bddae5bc-e07a-4647-806c-cc31b75b828f",
   "metadata": {},
   "outputs": [
    {
     "name": "stdout",
     "output_type": "stream",
     "text": [
      "3.899281838407731\n"
     ]
    }
   ],
   "source": [
    "theta_hat = np.mean(data_one[:, 0])\n",
    "print(theta_hat)"
   ]
  },
  {
   "cell_type": "code",
   "execution_count": 7,
   "id": "15d89644-fd49-40de-8d34-d61716c4a61b",
   "metadata": {},
   "outputs": [],
   "source": [
    "def simulation_sample_mean(N = 20, M = 1000):\n",
    "    sample_means = np.empty(M)\n",
    "    for i in range(M):\n",
    "        data = generate_data(N)\n",
    "        sample_mean = np.mean(data[:, 0])\n",
    "        sample_means[i] = sample_mean\n",
    "        \n",
    "    variance = np.var(sample_means, ddof=1)\n",
    "    return sample_means, variance"
   ]
  },
  {
   "cell_type": "code",
   "execution_count": 8,
   "id": "a54a565b-8d1b-4738-9ad4-bc4950c972ee",
   "metadata": {},
   "outputs": [
    {
     "name": "stdout",
     "output_type": "stream",
     "text": [
      "Variance of sample means: 0.5287778183994154\n"
     ]
    }
   ],
   "source": [
    "M = 1000\n",
    "N = 20 \n",
    "sample_means, variance = simulation_sample_mean(N, M)\n",
    "\n",
    "print(f\"Variance of sample means: {variance}\")"
   ]
  },
  {
   "cell_type": "code",
   "execution_count": 9,
   "id": "268c7a78-1827-427a-9afb-fc06c11ce577",
   "metadata": {},
   "outputs": [],
   "source": [
    "mat_theta_hat_20, var_20 = simulation_sample_mean(20, M)\n",
    "mat_theta_hat_100, var_100 = simulation_sample_mean(100, M)\n",
    "mat_theta_hat_500, var_500 = simulation_sample_mean(500, M)"
   ]
  },
  {
   "cell_type": "code",
   "execution_count": 10,
   "id": "5c293545-c0be-4cc7-bf41-33cc1f7541f9",
   "metadata": {},
   "outputs": [
    {
     "name": "stdout",
     "output_type": "stream",
     "text": [
      "0.5085084596986434\n",
      "0.10562687499336124\n",
      "0.01872680767996242\n"
     ]
    }
   ],
   "source": [
    "print(var_20)\n",
    "print(var_100)\n",
    "print(var_500)"
   ]
  },
  {
   "cell_type": "code",
   "execution_count": 11,
   "id": "9e00d31f-2718-4b86-ad4e-a2c092ecbab4",
   "metadata": {},
   "outputs": [],
   "source": [
    "def simulation_sample_mean(N = 20, M = 1000):\n",
    "    sample_means = np.empty(M)\n",
    "    for i in range(M):\n",
    "        data = generate_data(N)\n",
    "        sample_mean = np.mean(data[:, 0])\n",
    "        sample_means[i] = np.sqrt(N)*sample_mean\n",
    "        \n",
    "    variance = np.var(sample_means, ddof=1)\n",
    "    return sample_means, variance"
   ]
  },
  {
   "cell_type": "code",
   "execution_count": 13,
   "id": "13b2fd82-54bf-47cd-93be-03ee924d6bb3",
   "metadata": {},
   "outputs": [],
   "source": [
    "mat_theta_hat_20, var_20 = simulation_sample_mean(20, M)\n",
    "mat_theta_hat_100, var_100 = simulation_sample_mean(100, M)\n",
    "mat_theta_hat_500, var_500 = simulation_sample_mean(500, M)"
   ]
  },
  {
   "cell_type": "code",
   "execution_count": 14,
   "id": "25d16acb-cf08-49d8-8838-fddfbc170b31",
   "metadata": {},
   "outputs": [
    {
     "name": "stdout",
     "output_type": "stream",
     "text": [
      "10.11669131494308\n",
      "10.514454980936115\n",
      "10.446237513361423\n"
     ]
    }
   ],
   "source": [
    "print(var_20)\n",
    "print(var_100)\n",
    "print(var_500)"
   ]
  }
 ],
 "metadata": {
  "kernelspec": {
   "display_name": "Python 3 (ipykernel)",
   "language": "python",
   "name": "python3"
  },
  "language_info": {
   "codemirror_mode": {
    "name": "ipython",
    "version": 3
   },
   "file_extension": ".py",
   "mimetype": "text/x-python",
   "name": "python",
   "nbconvert_exporter": "python",
   "pygments_lexer": "ipython3",
   "version": "3.12.4"
  }
 },
 "nbformat": 4,
 "nbformat_minor": 5
}
