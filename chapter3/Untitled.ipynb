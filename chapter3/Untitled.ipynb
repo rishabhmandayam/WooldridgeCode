{
 "cells": [
  {
   "cell_type": "code",
   "execution_count": 4,
   "id": "568f2826-4f56-4df7-b814-75d52c6f5315",
   "metadata": {},
   "outputs": [],
   "source": [
    "import numpy as np\n",
    "from scipy.stats import t"
   ]
  },
  {
   "cell_type": "code",
   "execution_count": 5,
   "id": "ae372b6c-989a-4c73-abe1-a4cd3d6634d2",
   "metadata": {},
   "outputs": [],
   "source": [
    "seed = 1\n",
    "np.random.seed(seed)"
   ]
  },
  {
   "cell_type": "code",
   "execution_count": 8,
   "id": "c1f1e85a-346c-4c64-866f-43db70795db3",
   "metadata": {},
   "outputs": [],
   "source": [
    "def generate_data(N = 20):\n",
    "    beta_0 = 1\n",
    "    beta_1 = 1\n",
    "    beta_2 = 0.2\n",
    "    mat_data = np.empty((N, 2))\n",
    "    \n",
    "    for i in range(N):\n",
    "        e = t.rvs(df=10, size=1)  \n",
    "        x = np.random.normal(loc=1, scale=np.sqrt(4))  \n",
    "        y = beta_0 + beta_1 * x + beta_2 * x**2 + e\n",
    "        mat_data[i, :] = [y, x]\n",
    "    \n",
    "    return mat_data"
   ]
  },
  {
   "cell_type": "code",
   "execution_count": 9,
   "id": "89c21a49-812a-4f95-8fda-a0a6145199a8",
   "metadata": {},
   "outputs": [
    {
     "ename": "ValueError",
     "evalue": "setting an array element with a sequence. The requested array would exceed the maximum number of dimension of 1.",
     "output_type": "error",
     "traceback": [
      "\u001b[0;31m---------------------------------------------------------------------------\u001b[0m",
      "\u001b[0;31mValueError\u001b[0m                                Traceback (most recent call last)",
      "Cell \u001b[0;32mIn[9], line 2\u001b[0m\n\u001b[1;32m      1\u001b[0m N \u001b[38;5;241m=\u001b[39m \u001b[38;5;241m20\u001b[39m\n\u001b[0;32m----> 2\u001b[0m data_one \u001b[38;5;241m=\u001b[39m \u001b[43mgenerate_data\u001b[49m\u001b[43m(\u001b[49m\u001b[43mN\u001b[49m\u001b[43m)\u001b[49m\n",
      "Cell \u001b[0;32mIn[8], line 11\u001b[0m, in \u001b[0;36mgenerate_data\u001b[0;34m(N)\u001b[0m\n\u001b[1;32m      9\u001b[0m     x \u001b[38;5;241m=\u001b[39m np\u001b[38;5;241m.\u001b[39mrandom\u001b[38;5;241m.\u001b[39mnormal(loc\u001b[38;5;241m=\u001b[39m\u001b[38;5;241m1\u001b[39m, scale\u001b[38;5;241m=\u001b[39mnp\u001b[38;5;241m.\u001b[39msqrt(\u001b[38;5;241m4\u001b[39m))  \n\u001b[1;32m     10\u001b[0m     y \u001b[38;5;241m=\u001b[39m beta_0 \u001b[38;5;241m+\u001b[39m beta_1 \u001b[38;5;241m*\u001b[39m x \u001b[38;5;241m+\u001b[39m beta_2 \u001b[38;5;241m*\u001b[39m x\u001b[38;5;241m*\u001b[39m\u001b[38;5;241m*\u001b[39m\u001b[38;5;241m2\u001b[39m \u001b[38;5;241m+\u001b[39m e\n\u001b[0;32m---> 11\u001b[0m     \u001b[43mmat_data\u001b[49m\u001b[43m[\u001b[49m\u001b[43mi\u001b[49m\u001b[43m,\u001b[49m\u001b[43m \u001b[49m\u001b[43m:\u001b[49m\u001b[43m]\u001b[49m \u001b[38;5;241m=\u001b[39m [y, x]\n\u001b[1;32m     13\u001b[0m \u001b[38;5;28;01mreturn\u001b[39;00m mat_data\n",
      "\u001b[0;31mValueError\u001b[0m: setting an array element with a sequence. The requested array would exceed the maximum number of dimension of 1."
     ]
    }
   ],
   "source": [
    "N = 20\n",
    "data_one = generate_data(N)"
   ]
  },
  {
   "cell_type": "code",
   "execution_count": null,
   "id": "973ae3bb-9fa8-485a-bc78-0b4bd44824ac",
   "metadata": {},
   "outputs": [],
   "source": []
  }
 ],
 "metadata": {
  "kernelspec": {
   "display_name": "Python 3 (ipykernel)",
   "language": "python",
   "name": "python3"
  },
  "language_info": {
   "codemirror_mode": {
    "name": "ipython",
    "version": 3
   },
   "file_extension": ".py",
   "mimetype": "text/x-python",
   "name": "python",
   "nbconvert_exporter": "python",
   "pygments_lexer": "ipython3",
   "version": "3.12.4"
  }
 },
 "nbformat": 4,
 "nbformat_minor": 5
}
